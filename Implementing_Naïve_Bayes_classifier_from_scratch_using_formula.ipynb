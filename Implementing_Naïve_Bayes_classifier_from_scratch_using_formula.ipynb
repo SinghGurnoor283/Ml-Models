{
  "nbformat": 4,
  "nbformat_minor": 0,
  "metadata": {
    "colab": {
      "provenance": []
    },
    "kernelspec": {
      "name": "python3",
      "display_name": "Python 3"
    },
    "language_info": {
      "name": "python"
    }
  },
  "cells": [
    {
      "cell_type": "markdown",
      "source": [
        "#Exercise 4: Implementing Naïve Bayes classifier from scratch using formula that handles continuous-valued input attributes using Gaussian distribution. Use the Iris dataset from sklearn.\n",
        "\n",
        "Naïve Bayes is a probabilistic classifier based on Bayes’ Theorem, with a strong (naïve) assumption:\n",
        "\n",
        "All features are independent given the class. Gaussian Naïve Bayes is a version used when the input features are continuous (numerical) — like height, weight, or petal length in the Iris dataset.\n",
        "\n",
        "It assumes:\n",
        "\n",
        "Each feature value for a given class is normally (Gaussian) distributed.\n",
        "\n",
        "That's why we use the Gaussian (bell curve) formula to calculate the likelihood of a feature value given a class.\n",
        "\n",
        "Compute Likelihood Using Gaussian PDF\n",
        "Formula: Search it P(x∣μ,σ)=2π​σ1​⋅exp(−2σ2(x−μ)2​)\n",
        "\n",
        "Why? This gives us the probability of a feature value x for a given class.\n",
        "\n",
        "Apply Bayes’ Theorem for Posterior Probability\n",
        "P(class / features)∝P(class)⋅∏P(featurei / class)\n",
        "\n",
        "Multiply all the feature probabilities together with the class prior (assumed uniform here).\n",
        "\n",
        "Why? This gives the posterior probability — the probability of the class given the input features."
      ],
      "metadata": {
        "id": "qgnawJ56CY3P"
      }
    },
    {
      "cell_type": "code",
      "execution_count": 3,
      "metadata": {
        "colab": {
          "base_uri": "https://localhost:8080/"
        },
        "id": "M1aDZhFPCX00",
        "outputId": "d59296c7-b892-4e3d-b21c-a2f1b0fc2c97"
      },
      "outputs": [
        {
          "output_type": "stream",
          "name": "stdout",
          "text": [
            "1.0\n",
            "[[10  0  0]\n",
            " [ 0  9  0]\n",
            " [ 0  0 11]]\n",
            "              precision    recall  f1-score   support\n",
            "\n",
            "           0       1.00      1.00      1.00        10\n",
            "           1       1.00      1.00      1.00         9\n",
            "           2       1.00      1.00      1.00        11\n",
            "\n",
            "    accuracy                           1.00        30\n",
            "   macro avg       1.00      1.00      1.00        30\n",
            "weighted avg       1.00      1.00      1.00        30\n",
            "\n"
          ]
        }
      ],
      "source": [
        "import numpy as np\n",
        "from sklearn.datasets import load_iris\n",
        "from sklearn.model_selection import train_test_split\n",
        "from sklearn.metrics import accuracy_score,classification_report, confusion_matrix\n",
        "data=load_iris()\n",
        "X=data.data\n",
        "y=data.target\n",
        "X_train, X_test, y_train, y_test = train_test_split(X, y, test_size=0.2, random_state=42)\n",
        "class GaussianNaiveBayes:\n",
        "  def fit(self,X,y):\n",
        "    self.classes=np.unique(y)\n",
        "    self.parameters={}\n",
        "    for c in self.classes:\n",
        "      X_c=X[y==c]\n",
        "      self.parameters[c]={\n",
        "          'mean':X_c.mean(axis=0),\n",
        "          'std':X_c.std(axis=0)\n",
        "      }\n",
        "  def _calculate_likelihood(self, mean, std, x):\n",
        "    exponent = np.exp(-((x - mean) ** 2) / (2 * std ** 2))\n",
        "    return (1 / (np.sqrt(2 * np.pi) * std)) * exponent\n",
        "\n",
        "  def _calculate_posterior(self, x):\n",
        "    posteriors = []\n",
        "    for c in self.classes:\n",
        "      prior = 1/len(self.classes)\n",
        "      likelihood = np.prod(self._calculate_likelihood(self.parameters[c][\"mean\"], self.parameters[c][\"std\"], x))\n",
        "      posterior = prior * likelihood\n",
        "      posteriors.append(posterior)\n",
        "    return self.classes[np.argmax(posteriors)]\n",
        "\n",
        "  def predict(self, X):\n",
        "        return np.array([self._calculate_posterior(x) for x in X])\n",
        "\n",
        "model=GaussianNaiveBayes()\n",
        "model.fit(X_train,y_train)\n",
        "y_pred=model.predict(X_test)\n",
        "print(accuracy_score(y_test,y_pred))\n",
        "print(confusion_matrix(y_test,y_pred))\n",
        "print(classification_report(y_test,y_pred))"
      ]
    },
    {
      "cell_type": "code",
      "source": [],
      "metadata": {
        "id": "JjQVIw5KCmoI"
      },
      "execution_count": null,
      "outputs": []
    }
  ]
}