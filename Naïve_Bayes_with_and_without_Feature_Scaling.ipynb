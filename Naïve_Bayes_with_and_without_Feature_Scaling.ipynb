{
  "nbformat": 4,
  "nbformat_minor": 0,
  "metadata": {
    "colab": {
      "provenance": []
    },
    "kernelspec": {
      "name": "python3",
      "display_name": "Python 3"
    },
    "language_info": {
      "name": "python"
    }
  },
  "cells": [
    {
      "cell_type": "markdown",
      "source": [
        "# Naïve Bayes with and without Feature Scaling\n",
        "\n",
        "Compare the accuracy of the model before and after scaling the features."
      ],
      "metadata": {
        "id": "fh65rICdWFRc"
      }
    },
    {
      "cell_type": "code",
      "execution_count": 2,
      "metadata": {
        "colab": {
          "base_uri": "https://localhost:8080/"
        },
        "id": "jofacOf5WElL",
        "outputId": "5845eebb-e6c2-4fa5-8b26-365c1f6ff5b2"
      },
      "outputs": [
        {
          "output_type": "execute_result",
          "data": {
            "text/plain": [
              "(1.0,\n",
              " array([[10,  0,  0],\n",
              "        [ 0,  9,  0],\n",
              "        [ 0,  0, 11]]),\n",
              " '              precision    recall  f1-score   support\\n\\n           0       1.00      1.00      1.00        10\\n           1       1.00      1.00      1.00         9\\n           2       1.00      1.00      1.00        11\\n\\n    accuracy                           1.00        30\\n   macro avg       1.00      1.00      1.00        30\\nweighted avg       1.00      1.00      1.00        30\\n',\n",
              " 1.0,\n",
              " array([[10,  0,  0],\n",
              "        [ 0,  9,  0],\n",
              "        [ 0,  0, 11]]),\n",
              " '              precision    recall  f1-score   support\\n\\n           0       1.00      1.00      1.00        10\\n           1       1.00      1.00      1.00         9\\n           2       1.00      1.00      1.00        11\\n\\n    accuracy                           1.00        30\\n   macro avg       1.00      1.00      1.00        30\\nweighted avg       1.00      1.00      1.00        30\\n')"
            ]
          },
          "metadata": {},
          "execution_count": 2
        }
      ],
      "source": [
        "from sklearn.datasets import load_iris\n",
        "from sklearn.model_selection import train_test_split\n",
        "from sklearn.naive_bayes import GaussianNB\n",
        "from sklearn.preprocessing import StandardScaler\n",
        "from sklearn.metrics import accuracy_score, confusion_matrix, classification_report\n",
        "\n",
        "iris = load_iris()\n",
        "X = iris.data\n",
        "y = iris.target\n",
        "X_train, X_test, y_train, y_test = train_test_split(X, y, test_size=0.2, random_state=42)\n",
        "\n",
        "gnb_unscaled = GaussianNB()\n",
        "gnb_unscaled.fit(X_train, y_train)\n",
        "y_pred_unscaled = gnb_unscaled.predict(X_test)\n",
        "\n",
        "scaler = StandardScaler()\n",
        "X_train_scaled = scaler.fit_transform(X_train)\n",
        "X_test_scaled = scaler.transform(X_test)\n",
        "\n",
        "gnb_scaled = GaussianNB()\n",
        "gnb_scaled.fit(X_train_scaled, y_train)\n",
        "y_pred_scaled = gnb_scaled.predict(X_test_scaled)\n",
        "\n",
        "accuracy_unscaled = accuracy_score(y_test, y_pred_unscaled)\n",
        "conf_matrix_unscaled = confusion_matrix(y_test, y_pred_unscaled)\n",
        "report_unscaled = classification_report(y_test, y_pred_unscaled)\n",
        "\n",
        "\n",
        "accuracy_scaled = accuracy_score(y_test, y_pred_scaled)\n",
        "conf_matrix_scaled = confusion_matrix(y_test, y_pred_scaled)\n",
        "report_scaled = classification_report(y_test, y_pred_scaled)\n",
        "\n",
        "accuracy_unscaled, conf_matrix_unscaled, report_unscaled, accuracy_scaled, conf_matrix_scaled, report_scaled\n"
      ]
    },
    {
      "cell_type": "markdown",
      "source": [
        "🧠 Why are results identical?\n",
        "\n",
        "The Iris dataset is well-behaved, with:\n",
        "Numerical (continuous) features.\n",
        "Well-separated classes.\n",
        "Similar scales for all features.\n",
        "Gaussian Naïve Bayes assumes features are normally distributed. It models each feature using its mean and variance within each class.\n",
        "\n",
        "Since these are scale-invariant, scaling the data doesn't change much — it just shifts the mean and rescales the variance, which GNB can already handle!"
      ],
      "metadata": {
        "id": "wkAPwAAWWbbj"
      }
    },
    {
      "cell_type": "code",
      "source": [],
      "metadata": {
        "id": "OpFzn7NZWR3L"
      },
      "execution_count": null,
      "outputs": []
    }
  ]
}